{
 "cells": [
  {
   "cell_type": "markdown",
   "id": "f184425b",
   "metadata": {},
   "source": [
    "## tuples"
   ]
  },
  {
   "cell_type": "code",
   "execution_count": 2,
   "id": "67202b9a",
   "metadata": {},
   "outputs": [
    {
     "data": {
      "text/plain": [
       "int"
      ]
     },
     "execution_count": 2,
     "metadata": {},
     "output_type": "execute_result"
    }
   ],
   "source": [
    "not_a_tuple=(10)\n",
    "type(not_a_tuple)"
   ]
  },
  {
   "cell_type": "code",
   "execution_count": 3,
   "id": "c703d29a",
   "metadata": {},
   "outputs": [
    {
     "data": {
      "text/plain": [
       "tuple"
      ]
     },
     "execution_count": 3,
     "metadata": {},
     "output_type": "execute_result"
    }
   ],
   "source": [
    "a_tuple=(10,)\n",
    "type(a_tuple)"
   ]
  },
  {
   "cell_type": "code",
   "execution_count": 4,
   "id": "fc3337b3",
   "metadata": {},
   "outputs": [
    {
     "data": {
      "text/plain": [
       "tuple"
      ]
     },
     "execution_count": 4,
     "metadata": {},
     "output_type": "execute_result"
    }
   ],
   "source": [
    "a_tuple=10,\n",
    "type(a_tuple)"
   ]
  },
  {
   "cell_type": "code",
   "execution_count": 5,
   "id": "459d7687",
   "metadata": {},
   "outputs": [
    {
     "ename": "TypeError",
     "evalue": "'tuple' object does not support item assignment",
     "output_type": "error",
     "traceback": [
      "\u001b[1;31m---------------------------------------------------------------------------\u001b[0m",
      "\u001b[1;31mTypeError\u001b[0m                                 Traceback (most recent call last)",
      "\u001b[1;32m~\\AppData\\Local\\Temp/ipykernel_8144/3596053951.py\u001b[0m in \u001b[0;36m<module>\u001b[1;34m\u001b[0m\n\u001b[1;32m----> 1\u001b[1;33m \u001b[0ma_tuple\u001b[0m\u001b[1;33m[\u001b[0m\u001b[1;36m0\u001b[0m\u001b[1;33m]\u001b[0m\u001b[1;33m=\u001b[0m\u001b[1;36m15\u001b[0m\u001b[1;33m\u001b[0m\u001b[1;33m\u001b[0m\u001b[0m\n\u001b[0m",
      "\u001b[1;31mTypeError\u001b[0m: 'tuple' object does not support item assignment"
     ]
    }
   ],
   "source": [
    "a_tuple[0]=15"
   ]
  },
  {
   "cell_type": "code",
   "execution_count": 6,
   "id": "bd8d19cb",
   "metadata": {},
   "outputs": [
    {
     "ename": "TypeError",
     "evalue": "'tuple' object doesn't support item deletion",
     "output_type": "error",
     "traceback": [
      "\u001b[1;31m---------------------------------------------------------------------------\u001b[0m",
      "\u001b[1;31mTypeError\u001b[0m                                 Traceback (most recent call last)",
      "\u001b[1;32m~\\AppData\\Local\\Temp/ipykernel_8144/47940531.py\u001b[0m in \u001b[0;36m<module>\u001b[1;34m\u001b[0m\n\u001b[1;32m----> 1\u001b[1;33m \u001b[1;32mdel\u001b[0m \u001b[0ma_tuple\u001b[0m\u001b[1;33m[\u001b[0m\u001b[1;36m0\u001b[0m\u001b[1;33m]\u001b[0m\u001b[1;33m\u001b[0m\u001b[1;33m\u001b[0m\u001b[0m\n\u001b[0m",
      "\u001b[1;31mTypeError\u001b[0m: 'tuple' object doesn't support item deletion"
     ]
    }
   ],
   "source": [
    "del a_tuple[0]"
   ]
  },
  {
   "cell_type": "code",
   "execution_count": 10,
   "id": "f5c368a6",
   "metadata": {},
   "outputs": [],
   "source": [
    "element_index=a_tuple.index(10)"
   ]
  },
  {
   "cell_type": "code",
   "execution_count": 13,
   "id": "bbc8813c",
   "metadata": {},
   "outputs": [
    {
     "name": "stdout",
     "output_type": "stream",
     "text": [
      "index of element 10 is 0\n"
     ]
    }
   ],
   "source": [
    "print('index of element 10 is {}'.format(element_index))"
   ]
  },
  {
   "cell_type": "markdown",
   "id": "0f6daa87",
   "metadata": {},
   "source": [
    "## sets"
   ]
  },
  {
   "cell_type": "code",
   "execution_count": 1,
   "id": "910b5663",
   "metadata": {},
   "outputs": [
    {
     "data": {
      "text/plain": [
       "{1, 2, 3}"
      ]
     },
     "execution_count": 1,
     "metadata": {},
     "output_type": "execute_result"
    }
   ],
   "source": [
    "set([1,2,3])"
   ]
  },
  {
   "cell_type": "code",
   "execution_count": 15,
   "id": "49dafee4",
   "metadata": {},
   "outputs": [
    {
     "name": "stdout",
     "output_type": "stream",
     "text": [
      "{5, 'ali', 45, 15}\n"
     ]
    }
   ],
   "source": [
    "set_1={'ali',45,5,5,5,15}\n",
    "set_2={'ahmad',45}\n",
    "print(set_1)"
   ]
  },
  {
   "cell_type": "code",
   "execution_count": 16,
   "id": "b77a7f46",
   "metadata": {},
   "outputs": [
    {
     "name": "stdout",
     "output_type": "stream",
     "text": [
      "True\n"
     ]
    }
   ],
   "source": [
    "print('ali' in set_1)"
   ]
  },
  {
   "cell_type": "code",
   "execution_count": 17,
   "id": "eeedf6ee",
   "metadata": {},
   "outputs": [
    {
     "name": "stdout",
     "output_type": "stream",
     "text": [
      "{5, 'ali', 'ahmad', 45, 15}\n"
     ]
    }
   ],
   "source": [
    "print(set_1 | set_2)           #every item in both"
   ]
  },
  {
   "cell_type": "code",
   "execution_count": 18,
   "id": "86c76279",
   "metadata": {},
   "outputs": [
    {
     "name": "stdout",
     "output_type": "stream",
     "text": [
      "{5, 'ali', 'ahmad', 15}\n"
     ]
    }
   ],
   "source": [
    "print(set_2 ^ set_1)           #every item in either but not in both"
   ]
  },
  {
   "cell_type": "code",
   "execution_count": 19,
   "id": "3839478b",
   "metadata": {},
   "outputs": [
    {
     "name": "stdout",
     "output_type": "stream",
     "text": [
      "False\n"
     ]
    }
   ],
   "source": [
    "print(set_1 > set_2)"
   ]
  },
  {
   "cell_type": "code",
   "execution_count": 20,
   "id": "5166376e",
   "metadata": {},
   "outputs": [
    {
     "name": "stdout",
     "output_type": "stream",
     "text": [
      "{45}\n"
     ]
    }
   ],
   "source": [
    "print(set_1 & set_2)             "
   ]
  },
  {
   "cell_type": "code",
   "execution_count": 21,
   "id": "26af6065",
   "metadata": {},
   "outputs": [
    {
     "name": "stdout",
     "output_type": "stream",
     "text": [
      "{'ali', 5, 15}\n"
     ]
    }
   ],
   "source": [
    "print(set_1 -set_2)"
   ]
  },
  {
   "cell_type": "code",
   "execution_count": 22,
   "id": "f5a00bca",
   "metadata": {},
   "outputs": [
    {
     "name": "stdout",
     "output_type": "stream",
     "text": [
      "4\n"
     ]
    }
   ],
   "source": [
    "print(len(set_1))"
   ]
  },
  {
   "cell_type": "code",
   "execution_count": 23,
   "id": "373d050e",
   "metadata": {},
   "outputs": [
    {
     "ename": "TypeError",
     "evalue": "'set' object is not subscriptable",
     "output_type": "error",
     "traceback": [
      "\u001b[1;31m---------------------------------------------------------------------------\u001b[0m",
      "\u001b[1;31mTypeError\u001b[0m                                 Traceback (most recent call last)",
      "\u001b[1;32m~\\AppData\\Local\\Temp/ipykernel_7904/3305946359.py\u001b[0m in \u001b[0;36m<module>\u001b[1;34m\u001b[0m\n\u001b[1;32m----> 1\u001b[1;33m \u001b[0mset_1\u001b[0m\u001b[1;33m[\u001b[0m\u001b[1;36m0\u001b[0m\u001b[1;33m]\u001b[0m\u001b[1;33m\u001b[0m\u001b[1;33m\u001b[0m\u001b[0m\n\u001b[0m",
      "\u001b[1;31mTypeError\u001b[0m: 'set' object is not subscriptable"
     ]
    }
   ],
   "source": [
    "set_1[0]"
   ]
  },
  {
   "cell_type": "code",
   "execution_count": 24,
   "id": "efc6c481",
   "metadata": {},
   "outputs": [
    {
     "name": "stdout",
     "output_type": "stream",
     "text": [
      "{'pooya', 'ahmad', 45}\n"
     ]
    }
   ],
   "source": [
    "set_2.add('pooya')\n",
    "print(set_2)"
   ]
  },
  {
   "cell_type": "markdown",
   "id": "e0ea283e",
   "metadata": {},
   "source": [
    "## Dictionaries"
   ]
  },
  {
   "cell_type": "code",
   "execution_count": 11,
   "id": "0f006642",
   "metadata": {},
   "outputs": [],
   "source": [
    "capitals = {'iran':'tehran'\n",
    "            ,'france':'paris'\n",
    "            ,'italy':'rome'}"
   ]
  },
  {
   "cell_type": "code",
   "execution_count": 12,
   "id": "b9b1f22d",
   "metadata": {},
   "outputs": [
    {
     "data": {
      "text/plain": [
       "'rome'"
      ]
     },
     "execution_count": 12,
     "metadata": {},
     "output_type": "execute_result"
    }
   ],
   "source": [
    "capitals['italy']"
   ]
  },
  {
   "cell_type": "code",
   "execution_count": 14,
   "id": "4b4ec40c",
   "metadata": {},
   "outputs": [
    {
     "data": {
      "text/plain": [
       "{'iran': 'tehran', 'france': 'paris', 'italy': 'rome', 'spain': 'madrid'}"
      ]
     },
     "execution_count": 14,
     "metadata": {},
     "output_type": "execute_result"
    }
   ],
   "source": [
    "capitals['spain']='madrid'\n",
    "capitals"
   ]
  },
  {
   "cell_type": "code",
   "execution_count": 15,
   "id": "3473907b",
   "metadata": {},
   "outputs": [
    {
     "ename": "KeyError",
     "evalue": "'germany'",
     "output_type": "error",
     "traceback": [
      "\u001b[1;31m---------------------------------------------------------------------------\u001b[0m",
      "\u001b[1;31mKeyError\u001b[0m                                  Traceback (most recent call last)",
      "\u001b[1;32m~\\AppData\\Local\\Temp/ipykernel_3848/2960998908.py\u001b[0m in \u001b[0;36m<module>\u001b[1;34m\u001b[0m\n\u001b[1;32m----> 1\u001b[1;33m \u001b[0mcapitals\u001b[0m\u001b[1;33m[\u001b[0m\u001b[1;34m'germany'\u001b[0m\u001b[1;33m]\u001b[0m\u001b[1;33m\u001b[0m\u001b[1;33m\u001b[0m\u001b[0m\n\u001b[0m",
      "\u001b[1;31mKeyError\u001b[0m: 'germany'"
     ]
    }
   ],
   "source": [
    "capitals['germany']"
   ]
  },
  {
   "cell_type": "code",
   "execution_count": 16,
   "id": "09ac6890",
   "metadata": {},
   "outputs": [
    {
     "data": {
      "text/plain": [
       "False"
      ]
     },
     "execution_count": 16,
     "metadata": {},
     "output_type": "execute_result"
    }
   ],
   "source": [
    "'germany' in capitals"
   ]
  },
  {
   "cell_type": "code",
   "execution_count": 18,
   "id": "5130ca02",
   "metadata": {},
   "outputs": [
    {
     "data": {
      "text/plain": [
       "{'iran': 'tehran',\n",
       " 'france': 'paris',\n",
       " 'italy': 'rome',\n",
       " 'spain': 'madrid',\n",
       " 'germany': 'berlin',\n",
       " 'united kingdon': 'london'}"
      ]
     },
     "execution_count": 18,
     "metadata": {},
     "output_type": "execute_result"
    }
   ],
   "source": [
    "more_capitals = {'germany':'berlin',\n",
    "                 'united kingdon':'london'}\n",
    "capitals.update(more_capitals)\n",
    "capitals"
   ]
  },
  {
   "cell_type": "code",
   "execution_count": 20,
   "id": "afb502a5",
   "metadata": {},
   "outputs": [
    {
     "data": {
      "text/plain": [
       "dict_keys(['iran', 'france', 'italy', 'spain', 'germany', 'united kingdon'])"
      ]
     },
     "execution_count": 20,
     "metadata": {},
     "output_type": "execute_result"
    }
   ],
   "source": [
    "capitals.keys()"
   ]
  },
  {
   "cell_type": "code",
   "execution_count": 19,
   "id": "22ae4466",
   "metadata": {},
   "outputs": [
    {
     "data": {
      "text/plain": [
       "False"
      ]
     },
     "execution_count": 19,
     "metadata": {},
     "output_type": "execute_result"
    }
   ],
   "source": [
    "'rome' in capitals.keys()"
   ]
  },
  {
   "cell_type": "code",
   "execution_count": 21,
   "id": "1d279cc5",
   "metadata": {},
   "outputs": [
    {
     "data": {
      "text/plain": [
       "dict_values(['tehran', 'paris', 'rome', 'madrid', 'berlin', 'london'])"
      ]
     },
     "execution_count": 21,
     "metadata": {},
     "output_type": "execute_result"
    }
   ],
   "source": [
    "capitals.values()"
   ]
  },
  {
   "cell_type": "code",
   "execution_count": 22,
   "id": "62a34674",
   "metadata": {},
   "outputs": [
    {
     "data": {
      "text/plain": [
       "dict_items([('iran', 'tehran'), ('france', 'paris'), ('italy', 'rome'), ('spain', 'madrid'), ('germany', 'berlin'), ('united kingdon', 'london')])"
      ]
     },
     "execution_count": 22,
     "metadata": {},
     "output_type": "execute_result"
    }
   ],
   "source": [
    "capitals.items()"
   ]
  },
  {
   "cell_type": "code",
   "execution_count": 23,
   "id": "42c78742",
   "metadata": {},
   "outputs": [
    {
     "data": {
      "text/plain": [
       "{'france': 'paris',\n",
       " 'italy': 'rome',\n",
       " 'spain': 'madrid',\n",
       " 'germany': 'berlin',\n",
       " 'united kingdon': 'london'}"
      ]
     },
     "execution_count": 23,
     "metadata": {},
     "output_type": "execute_result"
    }
   ],
   "source": [
    "del capitals['iran']\n",
    "capitals"
   ]
  },
  {
   "cell_type": "code",
   "execution_count": 24,
   "id": "5eeb3354",
   "metadata": {},
   "outputs": [
    {
     "ename": "TypeError",
     "evalue": "unhashable type: 'list'",
     "output_type": "error",
     "traceback": [
      "\u001b[1;31m---------------------------------------------------------------------------\u001b[0m",
      "\u001b[1;31mTypeError\u001b[0m                                 Traceback (most recent call last)",
      "\u001b[1;32m~\\AppData\\Local\\Temp/ipykernel_3848/449631160.py\u001b[0m in \u001b[0;36m<module>\u001b[1;34m\u001b[0m\n\u001b[1;32m----> 1\u001b[1;33m \u001b[0mcapitals\u001b[0m\u001b[1;33m[\u001b[0m\u001b[1;33m[\u001b[0m\u001b[1;34m'pooya'\u001b[0m\u001b[1;33m]\u001b[0m\u001b[1;33m]\u001b[0m\u001b[1;33m=\u001b[0m \u001b[0mdict\u001b[0m\u001b[1;33m(\u001b[0m\u001b[1;33m)\u001b[0m\u001b[1;33m\u001b[0m\u001b[1;33m\u001b[0m\u001b[0m\n\u001b[0m",
      "\u001b[1;31mTypeError\u001b[0m: unhashable type: 'list'"
     ]
    }
   ],
   "source": [
    "capitals[['pooya']]= dict()"
   ]
  },
  {
   "cell_type": "code",
   "execution_count": 25,
   "id": "8bcd2374",
   "metadata": {},
   "outputs": [],
   "source": [
    "empty_dict = dict()\n",
    "empty_dict = {}\n",
    "empty_set = set()"
   ]
  },
  {
   "cell_type": "code",
   "execution_count": null,
   "id": "221299a3",
   "metadata": {},
   "outputs": [],
   "source": []
  }
 ],
 "metadata": {
  "kernelspec": {
   "display_name": "Python 3 (ipykernel)",
   "language": "python",
   "name": "python3"
  },
  "language_info": {
   "codemirror_mode": {
    "name": "ipython",
    "version": 3
   },
   "file_extension": ".py",
   "mimetype": "text/x-python",
   "name": "python",
   "nbconvert_exporter": "python",
   "pygments_lexer": "ipython3",
   "version": "3.9.7"
  }
 },
 "nbformat": 4,
 "nbformat_minor": 5
}
