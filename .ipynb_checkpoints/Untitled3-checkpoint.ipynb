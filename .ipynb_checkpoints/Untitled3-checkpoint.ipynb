{
 "cells": [
  {
   "cell_type": "markdown",
   "id": "2ffad684",
   "metadata": {},
   "source": [
    "## Handeling files"
   ]
  },
  {
   "cell_type": "code",
   "execution_count": 1,
   "id": "a47c7304",
   "metadata": {},
   "outputs": [],
   "source": [
    "file_1=open(\"myfile.txt\",\"a\")"
   ]
  },
  {
   "cell_type": "code",
   "execution_count": 14,
   "id": "1044ef57",
   "metadata": {},
   "outputs": [],
   "source": [
    "file_1=open(\"myfile.txt\",\"r\")"
   ]
  },
  {
   "cell_type": "code",
   "execution_count": 11,
   "id": "55425f74",
   "metadata": {},
   "outputs": [],
   "source": [
    "file_2=open(r\"myfile_2.txt\",\"w\")"
   ]
  },
  {
   "cell_type": "markdown",
   "id": "96b5e878",
   "metadata": {},
   "source": [
    "## closing Files"
   ]
  },
  {
   "cell_type": "code",
   "execution_count": 15,
   "id": "2c6cf2de",
   "metadata": {},
   "outputs": [],
   "source": [
    "file_1=open(\"myfile.txt\",\"a\")\n",
    "file_1.close()"
   ]
  },
  {
   "cell_type": "markdown",
   "id": "f83ca2a9",
   "metadata": {},
   "source": [
    "## Reading File"
   ]
  },
  {
   "cell_type": "code",
   "execution_count": null,
   "id": "baae468c",
   "metadata": {},
   "outputs": [],
   "source": []
  },
  {
   "cell_type": "code",
   "execution_count": null,
   "id": "cfa151cd",
   "metadata": {},
   "outputs": [],
   "source": [
    "with open (\"myfile.txt\") "
   ]
  }
 ],
 "metadata": {
  "kernelspec": {
   "display_name": "Python 3 (ipykernel)",
   "language": "python",
   "name": "python3"
  },
  "language_info": {
   "codemirror_mode": {
    "name": "ipython",
    "version": 3
   },
   "file_extension": ".py",
   "mimetype": "text/x-python",
   "name": "python",
   "nbconvert_exporter": "python",
   "pygments_lexer": "ipython3",
   "version": "3.9.7"
  }
 },
 "nbformat": 4,
 "nbformat_minor": 5
}
