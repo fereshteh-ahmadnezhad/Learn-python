{
 "cells": [
  {
   "cell_type": "markdown",
   "id": "163ccf3f",
   "metadata": {},
   "source": [
    "## Assigning Values to Variables"
   ]
  },
  {
   "cell_type": "code",
   "execution_count": 1,
   "id": "346e93a8",
   "metadata": {},
   "outputs": [
    {
     "name": "stdout",
     "output_type": "stream",
     "text": [
      "100\n",
      "fereshteh\n",
      "164.0\n"
     ]
    }
   ],
   "source": [
    "counter = 100\n",
    "name = 'fereshteh'\n",
    "height = 164.0\n",
    "\n",
    "\n",
    "\n",
    "print(counter)\n",
    "print(name)\n",
    "print(height)"
   ]
  },
  {
   "cell_type": "markdown",
   "id": "97dfbd15",
   "metadata": {},
   "source": [
    "## Multiple Assignment"
   ]
  },
  {
   "cell_type": "code",
   "execution_count": 2,
   "id": "893a82c5",
   "metadata": {},
   "outputs": [
    {
     "name": "stdout",
     "output_type": "stream",
     "text": [
      "1 1 1\n",
      "1 2 fereshteh\n"
     ]
    }
   ],
   "source": [
    "a = b = c = 1\n",
    "print(a,b,c)\n",
    "a, b, c =1, 2, 'fereshteh'\n",
    "print(a,b,c)"
   ]
  },
  {
   "cell_type": "code",
   "execution_count": 3,
   "id": "0d301704",
   "metadata": {},
   "outputs": [
    {
     "name": "stdout",
     "output_type": "stream",
     "text": [
      "20 10\n"
     ]
    }
   ],
   "source": [
    "a = 10\n",
    "b = 20\n",
    "a, b = b, a\n",
    "print(a, b)"
   ]
  },
  {
   "cell_type": "markdown",
   "id": "dc3da97a",
   "metadata": {},
   "source": [
    "## Delete a variable"
   ]
  },
  {
   "cell_type": "code",
   "execution_count": 5,
   "id": "85960f9e",
   "metadata": {},
   "outputs": [
    {
     "name": "stdout",
     "output_type": "stream",
     "text": [
      "a:  10\n"
     ]
    }
   ],
   "source": [
    "a = 10\n",
    "print('a: ',a)"
   ]
  },
  {
   "cell_type": "code",
   "execution_count": 6,
   "id": "e34b2925",
   "metadata": {},
   "outputs": [
    {
     "ename": "NameError",
     "evalue": "name 'a' is not defined",
     "output_type": "error",
     "traceback": [
      "\u001b[1;31m---------------------------------------------------------------------------\u001b[0m",
      "\u001b[1;31mNameError\u001b[0m                                 Traceback (most recent call last)",
      "\u001b[1;32m~\\AppData\\Local\\Temp/ipykernel_6208/1497285116.py\u001b[0m in \u001b[0;36m<module>\u001b[1;34m\u001b[0m\n\u001b[0;32m      1\u001b[0m \u001b[1;32mdel\u001b[0m \u001b[0ma\u001b[0m\u001b[1;33m\u001b[0m\u001b[1;33m\u001b[0m\u001b[0m\n\u001b[1;32m----> 2\u001b[1;33m \u001b[0mprint\u001b[0m\u001b[1;33m(\u001b[0m\u001b[0ma\u001b[0m\u001b[1;33m)\u001b[0m\u001b[1;33m\u001b[0m\u001b[1;33m\u001b[0m\u001b[0m\n\u001b[0m",
      "\u001b[1;31mNameError\u001b[0m: name 'a' is not defined"
     ]
    }
   ],
   "source": [
    "del a\n",
    "print(a)"
   ]
  },
  {
   "cell_type": "markdown",
   "id": "898fb3db",
   "metadata": {},
   "source": [
    "## standard data types"
   ]
  },
  {
   "cell_type": "markdown",
   "id": "a5f70acd",
   "metadata": {},
   "source": [
    "##\n",
    "#### 1. numeric types:\n",
    "###### 1. int\n",
    "###### 2. float\n",
    "###### 3. complex\n",
    "###### 4. bool\n",
    "#### 2. sequence types:\n",
    "###### 1. str\n",
    "###### 2. list\n",
    "###### 3. tuple\n",
    "###### 4. set\n",
    "#### 3. mapping type:\n",
    "###### 1. dict\n",
    "#### 4. set types:\n",
    "###### 1. set\n",
    "###### 2. frozenset"
   ]
  },
  {
   "cell_type": "code",
   "execution_count": null,
   "id": "9be78ccb",
   "metadata": {},
   "outputs": [],
   "source": []
  }
 ],
 "metadata": {
  "kernelspec": {
   "display_name": "Python 3 (ipykernel)",
   "language": "python",
   "name": "python3"
  },
  "language_info": {
   "codemirror_mode": {
    "name": "ipython",
    "version": 3
   },
   "file_extension": ".py",
   "mimetype": "text/x-python",
   "name": "python",
   "nbconvert_exporter": "python",
   "pygments_lexer": "ipython3",
   "version": "3.9.7"
  }
 },
 "nbformat": 4,
 "nbformat_minor": 5
}
