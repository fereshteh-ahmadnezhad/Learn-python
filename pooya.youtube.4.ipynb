{
 "cells": [
  {
   "cell_type": "markdown",
   "id": "6d05f192",
   "metadata": {},
   "source": [
    "## if statement"
   ]
  },
  {
   "cell_type": "code",
   "execution_count": 2,
   "id": "9d915901",
   "metadata": {},
   "outputs": [
    {
     "name": "stdout",
     "output_type": "stream",
     "text": [
      "value of expression is 100\n",
      "wow\n"
     ]
    }
   ],
   "source": [
    "val = 100\n",
    "if val == 100:\n",
    "    print('value of expression is 100')\n",
    "print('wow')"
   ]
  },
  {
   "cell_type": "code",
   "execution_count": 3,
   "id": "95a6989b",
   "metadata": {},
   "outputs": [
    {
     "name": "stdout",
     "output_type": "stream",
     "text": [
      "value of expression is not 100\n"
     ]
    }
   ],
   "source": [
    "val = 1001\n",
    "if val == 100:\n",
    "    print('value of expression is 100')\n",
    "else:\n",
    "    print('value of expression is not 100')"
   ]
  },
  {
   "cell_type": "code",
   "execution_count": 4,
   "id": "9d5fa964",
   "metadata": {},
   "outputs": [
    {
     "name": "stdout",
     "output_type": "stream",
     "text": [
      "zero means false\n"
     ]
    }
   ],
   "source": [
    "if 0:\n",
    "    print('impossible :(')\n",
    "else:\n",
    "    print('zero means false')"
   ]
  },
  {
   "cell_type": "code",
   "execution_count": 5,
   "id": "48197d44",
   "metadata": {},
   "outputs": [
    {
     "name": "stdout",
     "output_type": "stream",
     "text": [
      "wow\n"
     ]
    }
   ],
   "source": [
    "if -0.0000000000001:\n",
    "    print('wow')"
   ]
  },
  {
   "cell_type": "code",
   "execution_count": 6,
   "id": "02ad7a93",
   "metadata": {},
   "outputs": [
    {
     "name": "stdout",
     "output_type": "stream",
     "text": [
      "None means false\n"
     ]
    }
   ],
   "source": [
    "if None:\n",
    "    print('impossible :(')\n",
    "else:\n",
    "    print('None means false')"
   ]
  },
  {
   "cell_type": "code",
   "execution_count": 7,
   "id": "337b515c",
   "metadata": {},
   "outputs": [
    {
     "name": "stdout",
     "output_type": "stream",
     "text": [
      "empty means false\n"
     ]
    }
   ],
   "source": [
    "empty_lst = []\n",
    "if empty_lst:\n",
    "    print('impossible :(')\n",
    "else:\n",
    "    print('empty means false')"
   ]
  },
  {
   "cell_type": "code",
   "execution_count": 8,
   "id": "b46e74f1",
   "metadata": {},
   "outputs": [
    {
     "name": "stdout",
     "output_type": "stream",
     "text": [
      "1\n"
     ]
    }
   ],
   "source": [
    "lst = [1,2,3]\n",
    "if len(lst) != 0:\n",
    "    print(lst[0])"
   ]
  },
  {
   "cell_type": "code",
   "execution_count": 9,
   "id": "a74c7c67",
   "metadata": {},
   "outputs": [
    {
     "name": "stdout",
     "output_type": "stream",
     "text": [
      "1\n"
     ]
    }
   ],
   "source": [
    "lst = [1,2,3]\n",
    "if lst:\n",
    "    print(lst[0])"
   ]
  },
  {
   "cell_type": "code",
   "execution_count": null,
   "id": "23e7eac5",
   "metadata": {},
   "outputs": [],
   "source": []
  }
 ],
 "metadata": {
  "kernelspec": {
   "display_name": "Python 3 (ipykernel)",
   "language": "python",
   "name": "python3"
  },
  "language_info": {
   "codemirror_mode": {
    "name": "ipython",
    "version": 3
   },
   "file_extension": ".py",
   "mimetype": "text/x-python",
   "name": "python",
   "nbconvert_exporter": "python",
   "pygments_lexer": "ipython3",
   "version": "3.9.7"
  }
 },
 "nbformat": 4,
 "nbformat_minor": 5
}
