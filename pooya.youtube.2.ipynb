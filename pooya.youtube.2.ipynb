{
 "cells": [
  {
   "cell_type": "markdown",
   "id": "163ccf3f",
   "metadata": {},
   "source": [
    "## Assigning Values to Variables"
   ]
  },
  {
   "cell_type": "code",
   "execution_count": 1,
   "id": "346e93a8",
   "metadata": {},
   "outputs": [
    {
     "name": "stdout",
     "output_type": "stream",
     "text": [
      "100\n",
      "fereshteh\n",
      "164.0\n"
     ]
    }
   ],
   "source": [
    "counter = 100\n",
    "name = 'fereshteh'\n",
    "height = 164.0\n",
    "\n",
    "\n",
    "\n",
    "print(counter)\n",
    "print(name)\n",
    "print(height)"
   ]
  },
  {
   "cell_type": "markdown",
   "id": "97dfbd15",
   "metadata": {},
   "source": [
    "## Multiple Assignment"
   ]
  },
  {
   "cell_type": "code",
   "execution_count": 2,
   "id": "893a82c5",
   "metadata": {},
   "outputs": [
    {
     "name": "stdout",
     "output_type": "stream",
     "text": [
      "1 1 1\n",
      "1 2 fereshteh\n"
     ]
    }
   ],
   "source": [
    "a = b = c = 1\n",
    "print(a,b,c)\n",
    "a, b, c =1, 2, 'fereshteh'\n",
    "print(a,b,c)"
   ]
  },
  {
   "cell_type": "code",
   "execution_count": 3,
   "id": "0d301704",
   "metadata": {},
   "outputs": [
    {
     "name": "stdout",
     "output_type": "stream",
     "text": [
      "20 10\n"
     ]
    }
   ],
   "source": [
    "a = 10\n",
    "b = 20\n",
    "a, b = b, a\n",
    "print(a, b)"
   ]
  },
  {
   "cell_type": "markdown",
   "id": "dc3da97a",
   "metadata": {},
   "source": [
    "## Delete a variable"
   ]
  },
  {
   "cell_type": "code",
   "execution_count": 5,
   "id": "85960f9e",
   "metadata": {},
   "outputs": [
    {
     "name": "stdout",
     "output_type": "stream",
     "text": [
      "a:  10\n"
     ]
    }
   ],
   "source": [
    "a = 10\n",
    "print('a: ',a)"
   ]
  },
  {
   "cell_type": "code",
   "execution_count": 6,
   "id": "e34b2925",
   "metadata": {},
   "outputs": [
    {
     "ename": "NameError",
     "evalue": "name 'a' is not defined",
     "output_type": "error",
     "traceback": [
      "\u001b[1;31m---------------------------------------------------------------------------\u001b[0m",
      "\u001b[1;31mNameError\u001b[0m                                 Traceback (most recent call last)",
      "\u001b[1;32m~\\AppData\\Local\\Temp/ipykernel_6208/1497285116.py\u001b[0m in \u001b[0;36m<module>\u001b[1;34m\u001b[0m\n\u001b[0;32m      1\u001b[0m \u001b[1;32mdel\u001b[0m \u001b[0ma\u001b[0m\u001b[1;33m\u001b[0m\u001b[1;33m\u001b[0m\u001b[0m\n\u001b[1;32m----> 2\u001b[1;33m \u001b[0mprint\u001b[0m\u001b[1;33m(\u001b[0m\u001b[0ma\u001b[0m\u001b[1;33m)\u001b[0m\u001b[1;33m\u001b[0m\u001b[1;33m\u001b[0m\u001b[0m\n\u001b[0m",
      "\u001b[1;31mNameError\u001b[0m: name 'a' is not defined"
     ]
    }
   ],
   "source": [
    "del a\n",
    "print(a)"
   ]
  },
  {
   "cell_type": "markdown",
   "id": "49897f83",
   "metadata": {},
   "source": [
    "## standard data types"
   ]
  },
  {
   "cell_type": "markdown",
   "id": "f70d485b",
   "metadata": {},
   "source": [
    "### 1. numeric types:\n",
    "   ######     1. int\n",
    "   ######     2. float\n",
    "   ######     3. complex\n",
    "   ######     4. bool\n",
    "### 2. sequence types:\n",
    "   ######     1. str\n",
    "   ######     2. list\n",
    "   ######     3. tuple\n",
    "   ######     4. set\n",
    "### 3. mapping type:\n",
    "   ######     1. dict\n",
    "### 4. set types:\n",
    "   ######     1. set\n",
    "   ######     2. frozenset"
   ]
  },
  {
   "cell_type": "markdown",
   "id": "2e33c7e7",
   "metadata": {},
   "source": [
    "## numeric types"
   ]
  },
  {
   "cell_type": "code",
   "execution_count": 4,
   "id": "21a93291",
   "metadata": {},
   "outputs": [
    {
     "data": {
      "text/plain": [
       "(1, 10)"
      ]
     },
     "execution_count": 4,
     "metadata": {},
     "output_type": "execute_result"
    }
   ],
   "source": [
    "var_1 = 1\n",
    "var_2 = 10\n",
    "var_1, var_2"
   ]
  },
  {
   "cell_type": "code",
   "execution_count": 5,
   "id": "42417496",
   "metadata": {},
   "outputs": [],
   "source": [
    "var_1 = 10                # int\n",
    "var_2 = 5192436134343     # long\n",
    "var_3 = 0.                # float\n",
    "var_4 = 3.14j             #complex"
   ]
  },
  {
   "cell_type": "markdown",
   "id": "9b1eaed2",
   "metadata": {},
   "source": [
    "## boolean"
   ]
  },
  {
   "cell_type": "code",
   "execution_count": 6,
   "id": "b8ce4631",
   "metadata": {},
   "outputs": [],
   "source": [
    "true = True\n",
    "false = False"
   ]
  },
  {
   "cell_type": "markdown",
   "id": "fdb933d2",
   "metadata": {},
   "source": [
    " ## sequence types\n",
    " ##### strings\n",
    " "
   ]
  },
  {
   "cell_type": "code",
   "execution_count": 13,
   "id": "22063237",
   "metadata": {},
   "outputs": [
    {
     "name": "stdout",
     "output_type": "stream",
     "text": [
      "Hello World!\n"
     ]
    }
   ],
   "source": [
    "var = 'Hello World!'\n",
    "\n",
    "print(var)                   # print complete string"
   ]
  },
  {
   "cell_type": "code",
   "execution_count": 14,
   "id": "d93760d3",
   "metadata": {},
   "outputs": [
    {
     "name": "stdout",
     "output_type": "stream",
     "text": [
      "Hello World!Hello World!\n"
     ]
    }
   ],
   "source": [
    "# prints string two time\n",
    "print(var * 2)"
   ]
  },
  {
   "cell_type": "code",
   "execution_count": 17,
   "id": "d8011ec1",
   "metadata": {},
   "outputs": [
    {
     "name": "stdout",
     "output_type": "stream",
     "text": [
      "Hello World! TEST\n"
     ]
    }
   ],
   "source": [
    "# prints concatenated string\n",
    "print(var + \" TEST\")"
   ]
  },
  {
   "cell_type": "code",
   "execution_count": 18,
   "id": "cef081a8",
   "metadata": {},
   "outputs": [
    {
     "name": "stdout",
     "output_type": "stream",
     "text": [
      "12\n"
     ]
    }
   ],
   "source": [
    "# prints strings length\n",
    "print(len(var))"
   ]
  },
  {
   "cell_type": "markdown",
   "id": "940a6eed",
   "metadata": {},
   "source": [
    "## index"
   ]
  },
  {
   "cell_type": "code",
   "execution_count": 23,
   "id": "092446a3",
   "metadata": {},
   "outputs": [
    {
     "name": "stdout",
     "output_type": "stream",
     "text": [
      "l\n"
     ]
    }
   ],
   "source": [
    "print(var[2])"
   ]
  },
  {
   "cell_type": "markdown",
   "id": "28683f06",
   "metadata": {},
   "source": [
    "## slise"
   ]
  },
  {
   "cell_type": "code",
   "execution_count": 24,
   "id": "c5a9c6ae",
   "metadata": {},
   "outputs": [
    {
     "name": "stdout",
     "output_type": "stream",
     "text": [
      "llo\n"
     ]
    }
   ],
   "source": [
    "print(var[2:5])"
   ]
  },
  {
   "cell_type": "code",
   "execution_count": 25,
   "id": "c199d0e5",
   "metadata": {},
   "outputs": [
    {
     "name": "stdout",
     "output_type": "stream",
     "text": [
      "llo World!\n"
     ]
    }
   ],
   "source": [
    "print(var[2:])"
   ]
  },
  {
   "cell_type": "code",
   "execution_count": 26,
   "id": "59c34e7f",
   "metadata": {},
   "outputs": [
    {
     "name": "stdout",
     "output_type": "stream",
     "text": [
      "Hel\n"
     ]
    }
   ],
   "source": [
    "print(var[:3])"
   ]
  },
  {
   "cell_type": "code",
   "execution_count": 27,
   "id": "2d17d017",
   "metadata": {},
   "outputs": [
    {
     "name": "stdout",
     "output_type": "stream",
     "text": [
      "Hello World!\n"
     ]
    }
   ],
   "source": [
    "print(var[:])"
   ]
  },
  {
   "cell_type": "code",
   "execution_count": 29,
   "id": "f8b821f7",
   "metadata": {},
   "outputs": [
    {
     "name": "stdout",
     "output_type": "stream",
     "text": [
      "d\n"
     ]
    }
   ],
   "source": [
    "print(var[-2])"
   ]
  },
  {
   "cell_type": "code",
   "execution_count": 30,
   "id": "c9118b31",
   "metadata": {},
   "outputs": [
    {
     "name": "stdout",
     "output_type": "stream",
     "text": [
      "Hlo\n"
     ]
    }
   ],
   "source": [
    "print(var[0:5:2])"
   ]
  },
  {
   "cell_type": "code",
   "execution_count": 31,
   "id": "a8447f8d",
   "metadata": {},
   "outputs": [
    {
     "name": "stdout",
     "output_type": "stream",
     "text": [
      "!dlroW olleH\n"
     ]
    }
   ],
   "source": [
    "print(var[::-1])"
   ]
  },
  {
   "cell_type": "markdown",
   "id": "1de719a7",
   "metadata": {},
   "source": [
    "### strings are immutable"
   ]
  },
  {
   "cell_type": "code",
   "execution_count": 32,
   "id": "f3a450ef",
   "metadata": {},
   "outputs": [
    {
     "ename": "TypeError",
     "evalue": "'str' object doesn't support item deletion",
     "output_type": "error",
     "traceback": [
      "\u001b[1;31m---------------------------------------------------------------------------\u001b[0m",
      "\u001b[1;31mTypeError\u001b[0m                                 Traceback (most recent call last)",
      "\u001b[1;32m~\\AppData\\Local\\Temp/ipykernel_4768/3088084903.py\u001b[0m in \u001b[0;36m<module>\u001b[1;34m\u001b[0m\n\u001b[1;32m----> 1\u001b[1;33m \u001b[1;32mdel\u001b[0m \u001b[0mvar\u001b[0m\u001b[1;33m[\u001b[0m\u001b[1;36m2\u001b[0m\u001b[1;33m]\u001b[0m\u001b[1;33m\u001b[0m\u001b[1;33m\u001b[0m\u001b[0m\n\u001b[0m",
      "\u001b[1;31mTypeError\u001b[0m: 'str' object doesn't support item deletion"
     ]
    }
   ],
   "source": [
    "del var[2]"
   ]
  },
  {
   "cell_type": "code",
   "execution_count": 33,
   "id": "4a577e72",
   "metadata": {},
   "outputs": [
    {
     "ename": "TypeError",
     "evalue": "'str' object does not support item assignment",
     "output_type": "error",
     "traceback": [
      "\u001b[1;31m---------------------------------------------------------------------------\u001b[0m",
      "\u001b[1;31mTypeError\u001b[0m                                 Traceback (most recent call last)",
      "\u001b[1;32m~\\AppData\\Local\\Temp/ipykernel_4768/3640147663.py\u001b[0m in \u001b[0;36m<module>\u001b[1;34m\u001b[0m\n\u001b[1;32m----> 1\u001b[1;33m \u001b[0mvar\u001b[0m\u001b[1;33m[\u001b[0m\u001b[1;36m2\u001b[0m\u001b[1;33m]\u001b[0m \u001b[1;33m=\u001b[0m \u001b[1;34m's'\u001b[0m\u001b[1;33m\u001b[0m\u001b[1;33m\u001b[0m\u001b[0m\n\u001b[0m",
      "\u001b[1;31mTypeError\u001b[0m: 'str' object does not support item assignment"
     ]
    }
   ],
   "source": [
    "var[2] = 's'"
   ]
  },
  {
   "cell_type": "code",
   "execution_count": 38,
   "id": "0c4b384b",
   "metadata": {},
   "outputs": [
    {
     "name": "stdout",
     "output_type": "stream",
     "text": [
      "Hello_World!\n"
     ]
    }
   ],
   "source": [
    "# Hello world!\n",
    "# Hello_world!\n",
    "var_1 = var[:5]+'_'+var[6:]\n",
    "print(var_1)"
   ]
  },
  {
   "cell_type": "markdown",
   "id": "411315f7",
   "metadata": {},
   "source": [
    "## string formating"
   ]
  },
  {
   "cell_type": "code",
   "execution_count": 4,
   "id": "bd31c533",
   "metadata": {},
   "outputs": [
    {
     "name": "stdout",
     "output_type": "stream",
     "text": [
      "student grade is 19\n",
      "student with 000120230 ssn got 19\n",
      "student with 19 ssn got 000120230\n",
      "student grade is 19, ssn = 000120230\n",
      "student grade is 19, ssn = 000120230\n"
     ]
    }
   ],
   "source": [
    "student_grade = 19\n",
    "student_ssn = '000120230'\n",
    "print('student grade is {}'.format(student_grade))\n",
    "print('student with {1} ssn got {0}'.format(student_grade,student_ssn))\n",
    "print('student with {} ssn got {}'.format(student_grade,student_ssn))\n",
    "print(f'student grade is {student_grade}, ssn = {student_ssn}')\n",
    "print('student grade is %d, ssn = %s' %(student_grade,student_ssn))"
   ]
  },
  {
   "cell_type": "code",
   "execution_count": 5,
   "id": "6bd083c9",
   "metadata": {},
   "outputs": [
    {
     "name": "stdout",
     "output_type": "stream",
     "text": [
      "my name is fereshteh_ahmadnezhad\n"
     ]
    }
   ],
   "source": [
    "first_name, last_name = 'fereshteh', 'ahmadnezhad'\n",
    "print(f'my name is {first_name}_{last_name}')"
   ]
  },
  {
   "cell_type": "markdown",
   "id": "63d730f8",
   "metadata": {},
   "source": [
    "## lists"
   ]
  },
  {
   "cell_type": "code",
   "execution_count": 36,
   "id": "ab6b35a7",
   "metadata": {},
   "outputs": [
    {
     "name": "stdout",
     "output_type": "stream",
     "text": [
      "['huey', 'dewey', 'louie']\n"
     ]
    }
   ],
   "source": [
    "nephews = ['huey','dewey','louie']\n",
    "print(nephews)"
   ]
  },
  {
   "cell_type": "code",
   "execution_count": 9,
   "id": "d92777c6",
   "metadata": {},
   "outputs": [
    {
     "name": "stdout",
     "output_type": "stream",
     "text": [
      "louie\n",
      "length of nephews is: 3\n"
     ]
    }
   ],
   "source": [
    "print(nephews[2])\n",
    "print('length of nephews is:', len(nephews))"
   ]
  },
  {
   "cell_type": "code",
   "execution_count": 12,
   "id": "0d065fab",
   "metadata": {},
   "outputs": [
    {
     "data": {
      "text/plain": [
       "2"
      ]
     },
     "execution_count": 12,
     "metadata": {},
     "output_type": "execute_result"
    }
   ],
   "source": [
    "nephews.index('louie')"
   ]
  },
  {
   "cell_type": "code",
   "execution_count": 13,
   "id": "fb5035df",
   "metadata": {},
   "outputs": [
    {
     "ename": "ValueError",
     "evalue": "'louie?' is not in list",
     "output_type": "error",
     "traceback": [
      "\u001b[1;31m---------------------------------------------------------------------------\u001b[0m",
      "\u001b[1;31mValueError\u001b[0m                                Traceback (most recent call last)",
      "\u001b[1;32m~\\AppData\\Local\\Temp/ipykernel_6676/35709811.py\u001b[0m in \u001b[0;36m<module>\u001b[1;34m\u001b[0m\n\u001b[1;32m----> 1\u001b[1;33m \u001b[0mnephews\u001b[0m\u001b[1;33m.\u001b[0m\u001b[0mindex\u001b[0m\u001b[1;33m(\u001b[0m\u001b[1;34m'louie?'\u001b[0m\u001b[1;33m)\u001b[0m\u001b[1;33m\u001b[0m\u001b[1;33m\u001b[0m\u001b[0m\n\u001b[0m",
      "\u001b[1;31mValueError\u001b[0m: 'louie?' is not in list"
     ]
    }
   ],
   "source": [
    "nephews.index('louie?')"
   ]
  },
  {
   "cell_type": "code",
   "execution_count": 14,
   "id": "dfd7c3ea",
   "metadata": {},
   "outputs": [
    {
     "name": "stdout",
     "output_type": "stream",
     "text": [
      "mix_it_up: [1, [2, 3], 'alpha']\n"
     ]
    }
   ],
   "source": [
    "mix_it_up = [1,[2,3], 'alpha']\n",
    "print('mix_it_up:', mix_it_up)"
   ]
  },
  {
   "cell_type": "code",
   "execution_count": 37,
   "id": "6ea09ca4",
   "metadata": {},
   "outputs": [
    {
     "data": {
      "text/plain": [
       "['huey', 'dewey', 'louie', 'may duck']"
      ]
     },
     "execution_count": 37,
     "metadata": {},
     "output_type": "execute_result"
    }
   ],
   "source": [
    "nephews.append('may duck')\n",
    "nephews"
   ]
  },
  {
   "cell_type": "code",
   "execution_count": 38,
   "id": "088e6e45",
   "metadata": {},
   "outputs": [
    {
     "name": "stdout",
     "output_type": "stream",
     "text": [
      "ducks: ['huey', 'dewey', 'louie', 'may duck', 'donald duck', 'daisy duck']\n"
     ]
    }
   ],
   "source": [
    "ducks = nephews + ['donald duck', 'daisy duck']\n",
    "print('ducks:', ducks)"
   ]
  },
  {
   "cell_type": "code",
   "execution_count": 39,
   "id": "680cff8e",
   "metadata": {},
   "outputs": [
    {
     "data": {
      "text/plain": [
       "['huey', 'dewey', 'louie', 'may duck', 'may duck', 'june duck']"
      ]
     },
     "execution_count": 39,
     "metadata": {},
     "output_type": "execute_result"
    }
   ],
   "source": [
    "nephews.extend(['may duck','june duck'])\n",
    "nephews"
   ]
  },
  {
   "cell_type": "code",
   "execution_count": 40,
   "id": "73add8a5",
   "metadata": {},
   "outputs": [
    {
     "data": {
      "text/plain": [
       "['huey',\n",
       " 'dewey',\n",
       " 'louie',\n",
       " 'may duck',\n",
       " 'may duck',\n",
       " 'june duck',\n",
       " ['may duck', 'june duck']]"
      ]
     },
     "execution_count": 40,
     "metadata": {},
     "output_type": "execute_result"
    }
   ],
   "source": [
    "nephews.append(['may duck','june duck'])\n",
    "nephews"
   ]
  },
  {
   "cell_type": "code",
   "execution_count": 41,
   "id": "08c6e6cf",
   "metadata": {},
   "outputs": [
    {
     "data": {
      "text/plain": [
       "'may duck'"
      ]
     },
     "execution_count": 41,
     "metadata": {},
     "output_type": "execute_result"
    }
   ],
   "source": [
    "nephews[-1][0]\n"
   ]
  },
  {
   "cell_type": "markdown",
   "id": "993e5f81",
   "metadata": {},
   "source": [
    "## lists are mutable"
   ]
  },
  {
   "cell_type": "code",
   "execution_count": 42,
   "id": "abf1d066",
   "metadata": {},
   "outputs": [
    {
     "data": {
      "text/plain": [
       "['scrooge mcduck',\n",
       " 'huey',\n",
       " 'dewey',\n",
       " 'louie',\n",
       " 'may duck',\n",
       " 'donald duck',\n",
       " 'daisy duck']"
      ]
     },
     "execution_count": 42,
     "metadata": {},
     "output_type": "execute_result"
    }
   ],
   "source": [
    "ducks.insert(0,'scrooge mcduck')\n",
    "ducks"
   ]
  },
  {
   "cell_type": "code",
   "execution_count": 43,
   "id": "f5dc4d16",
   "metadata": {},
   "outputs": [
    {
     "data": {
      "text/plain": [
       "['huey', 'dewey', 'louie', 'may duck', 'donald duck', 'daisy duck']"
      ]
     },
     "execution_count": 43,
     "metadata": {},
     "output_type": "execute_result"
    }
   ],
   "source": [
    "del ducks[0]"
   ]
  },
  {
   "cell_type": "code",
   "execution_count": 44,
   "id": "6fa68580",
   "metadata": {},
   "outputs": [
    {
     "data": {
      "text/plain": [
       "['huey', 'dewey', 'louie', 'may duck', 'daisy duck']"
      ]
     },
     "execution_count": 44,
     "metadata": {},
     "output_type": "execute_result"
    }
   ],
   "source": [
    "ducks.remove('donald duck')\n",
    "ducks"
   ]
  },
  {
   "cell_type": "code",
   "execution_count": 45,
   "id": "202ccfc0",
   "metadata": {},
   "outputs": [
    {
     "data": {
      "text/plain": [
       "'daisy duck'"
      ]
     },
     "execution_count": 45,
     "metadata": {},
     "output_type": "execute_result"
    }
   ],
   "source": [
    "ducks.pop()"
   ]
  },
  {
   "cell_type": "code",
   "execution_count": 46,
   "id": "f7096f54",
   "metadata": {},
   "outputs": [
    {
     "data": {
      "text/plain": [
       "'huey'"
      ]
     },
     "execution_count": 46,
     "metadata": {},
     "output_type": "execute_result"
    }
   ],
   "source": [
    "ducks.pop(0)"
   ]
  },
  {
   "cell_type": "code",
   "execution_count": 47,
   "id": "3bf99a63",
   "metadata": {},
   "outputs": [
    {
     "data": {
      "text/plain": [
       "['dewey', 'louie', 'may duck']"
      ]
     },
     "execution_count": 47,
     "metadata": {},
     "output_type": "execute_result"
    }
   ],
   "source": [
    "ducks"
   ]
  },
  {
   "cell_type": "code",
   "execution_count": 48,
   "id": "a1dd084b",
   "metadata": {},
   "outputs": [
    {
     "data": {
      "text/plain": [
       "['pooya',\n",
       " 'dewey',\n",
       " 'louie',\n",
       " 'may duck',\n",
       " 'may duck',\n",
       " 'june duck',\n",
       " ['may duck', 'june duck']]"
      ]
     },
     "execution_count": 48,
     "metadata": {},
     "output_type": "execute_result"
    }
   ],
   "source": [
    "nephews[0] = 'pooya'\n",
    "nephews"
   ]
  },
  {
   "cell_type": "code",
   "execution_count": 49,
   "id": "b937e23c",
   "metadata": {},
   "outputs": [],
   "source": [
    "nephews[2:4] = ['4','9']"
   ]
  },
  {
   "cell_type": "code",
   "execution_count": 50,
   "id": "28833925",
   "metadata": {},
   "outputs": [
    {
     "data": {
      "text/plain": [
       "['pooya',\n",
       " 'dewey',\n",
       " '4',\n",
       " '9',\n",
       " 'may duck',\n",
       " 'june duck',\n",
       " ['may duck', 'june duck']]"
      ]
     },
     "execution_count": 50,
     "metadata": {},
     "output_type": "execute_result"
    }
   ],
   "source": [
    "nephews"
   ]
  },
  {
   "cell_type": "code",
   "execution_count": 51,
   "id": "b890a7a7",
   "metadata": {},
   "outputs": [
    {
     "data": {
      "text/plain": [
       "['pooya', 'dewey', '4', '9', '4']"
      ]
     },
     "execution_count": 51,
     "metadata": {},
     "output_type": "execute_result"
    }
   ],
   "source": [
    "nephews[-3:]=['4']\n",
    "nephews"
   ]
  },
  {
   "cell_type": "code",
   "execution_count": null,
   "id": "1ef9fc63",
   "metadata": {},
   "outputs": [],
   "source": []
  }
 ],
 "metadata": {
  "kernelspec": {
   "display_name": "Python 3 (ipykernel)",
   "language": "python",
   "name": "python3"
  },
  "language_info": {
   "codemirror_mode": {
    "name": "ipython",
    "version": 3
   },
   "file_extension": ".py",
   "mimetype": "text/x-python",
   "name": "python",
   "nbconvert_exporter": "python",
   "pygments_lexer": "ipython3",
   "version": "3.9.7"
  }
 },
 "nbformat": 4,
 "nbformat_minor": 5
}
