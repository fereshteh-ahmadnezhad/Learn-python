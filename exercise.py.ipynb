{
 "cells": [
  {
   "cell_type": "code",
   "execution_count": 1,
   "id": "b2f75a90",
   "metadata": {},
   "outputs": [
    {
     "name": "stdout",
     "output_type": "stream",
     "text": [
      "11 10\n"
     ]
    }
   ],
   "source": [
    "lst=['11','pooya','10','10.5']\n",
    "final=[]\n",
    "for i in lst:\n",
    "    try:\n",
    "        i= int(i)\n",
    "        final.append(i)\n",
    "    except:\n",
    "        pass\n",
    "print(\" \".join(str(i)for i in final))"
   ]
  },
  {
   "cell_type": "code",
   "execution_count": 3,
   "id": "62a131c0",
   "metadata": {},
   "outputs": [
    {
     "name": "stdout",
     "output_type": "stream",
     "text": [
      "1 >>> 3\n",
      "5 >>> 1\n",
      "6 >>> 1\n",
      "s >>> 2\n",
      "pooya >>> 1\n",
      "9 >>> 1\n"
     ]
    }
   ],
   "source": [
    "lst=[1,5,6,1,1,'s','s','pooya']\n",
    "find=[]\n",
    "for i in lst:\n",
    "    count=0\n",
    "    if i not in find:\n",
    "        find.append(i)\n",
    "        for j in lst:\n",
    "            if i==j:\n",
    "                count +=1\n",
    "        print(i,\">>>\",count)"
   ]
  },
  {
   "cell_type": "code",
   "execution_count": 3,
   "id": "04d16129",
   "metadata": {},
   "outputs": [
    {
     "name": "stdout",
     "output_type": "stream",
     "text": [
      "20\n",
      "20\n",
      "20\n"
     ]
    }
   ],
   "source": [
    "number_1=6\n",
    "number_2=5\n",
    "while True:\n",
    "    sum=number_1 + number_2\n",
    "    number_1 +=1\n",
    "    number_2 +=1\n",
    "    if 15 <= sum <= 20:\n",
    "        print(20)\n",
    "    elif sum>21:\n",
    "        break"
   ]
  },
  {
   "cell_type": "code",
   "execution_count": 4,
   "id": "1861fed6",
   "metadata": {},
   "outputs": [
    {
     "name": "stdout",
     "output_type": "stream",
     "text": [
      "[386, 462, 47, 418, 907, 344, 236, 375, 823, 566, 597, 978, 328, 615, 953, 345, 399, 162, 758, 219]\n"
     ]
    }
   ],
   "source": [
    "numbers=[386,462,47,418,907,344,236,375,823,566,597,978,328,615,953,\n",
    "         345,399,162,758,219,237,412,566,826,248,950,626,949,687,217,\n",
    "         815,67,104,58,512,24,892,894,767,553,81,379,831,445,742,717,958,743,527]\n",
    "lst=[]\n",
    "for i in numbers:\n",
    "    if i != 237:\n",
    "        lst.append(i)\n",
    "    elif i == 237:\n",
    "        break\n",
    "print(lst)"
   ]
  },
  {
   "cell_type": "code",
   "execution_count": null,
   "id": "9a028241",
   "metadata": {},
   "outputs": [],
   "source": []
  }
 ],
 "metadata": {
  "kernelspec": {
   "display_name": "Python 3 (ipykernel)",
   "language": "python",
   "name": "python3"
  },
  "language_info": {
   "codemirror_mode": {
    "name": "ipython",
    "version": 3
   },
   "file_extension": ".py",
   "mimetype": "text/x-python",
   "name": "python",
   "nbconvert_exporter": "python",
   "pygments_lexer": "ipython3",
   "version": "3.9.7"
  }
 },
 "nbformat": 4,
 "nbformat_minor": 5
}
