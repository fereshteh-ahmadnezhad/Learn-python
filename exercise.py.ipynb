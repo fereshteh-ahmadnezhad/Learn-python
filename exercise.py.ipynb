{
 "cells": [
  {
   "cell_type": "code",
   "execution_count": null,
   "id": "214b3332",
   "metadata": {},
   "outputs": [],
   "source": [
    "# Write a python program to detect integer items in a list of string items, cast them into int, and print/return them out"
   ]
  },
  {
   "cell_type": "code",
   "execution_count": null,
   "id": "447a8780",
   "metadata": {},
   "outputs": [],
   "source": [
    "lst=['11','pooya','10','10.5']\n",
    "final=[]\n",
    "for i in lst:\n",
    "    try:\n",
    "        i= int(i)\n",
    "        final.append(i)\n",
    "    except:\n",
    "        pass\n",
    "print(\" \".join(str(i)for i in final))"
   ]
  },
  {
   "cell_type": "code",
   "execution_count": null,
   "id": "5230b4f0",
   "metadata": {},
   "outputs": [],
   "source": [
    "lst = ['11', 'pooya', '10', '10.5', \"32K232\", \"0\"]\n",
    "valid = \"0123456789\"\n",
    "for item in lst:\n",
    "    i = True\n",
    "    for char in item:\n",
    "        if char not in valid:\n",
    "            i = False\n",
    "            break\n",
    "    if i:\n",
    "        print(item)"
   ]
  },
  {
   "cell_type": "code",
   "execution_count": null,
   "id": "bd4a09a9",
   "metadata": {},
   "outputs": [],
   "source": [
    "# Write a Python program to count the members of a list and print them.\n",
    "\n",
    "# Note: Count string items in a case insensitive manner."
   ]
  },
  {
   "cell_type": "code",
   "execution_count": null,
   "id": "9564575c",
   "metadata": {},
   "outputs": [],
   "source": [
    "lst=[1,5,6,1,1,'s','s','pooya']\n",
    "find=[]\n",
    "for i in lst:\n",
    "    count=0\n",
    "    if i not in find:\n",
    "        find.append(i)\n",
    "        for j in lst:\n",
    "            if i==j:\n",
    "                count +=1\n",
    "        print(i,\">>>\",count)"
   ]
  },
  {
   "cell_type": "code",
   "execution_count": null,
   "id": "f75d8853",
   "metadata": {},
   "outputs": [],
   "source": [
    "number_1=6\n",
    "number_2=5\n",
    "while True:\n",
    "    sum=number_1 + number_2\n",
    "    number_1 +=1\n",
    "    number_2 +=1\n",
    "    if 15 <= sum <= 20:\n",
    "        print(20)\n",
    "    elif sum>21:\n",
    "        break"
   ]
  },
  {
   "cell_type": "code",
   "execution_count": null,
   "id": "dab5c299",
   "metadata": {},
   "outputs": [],
   "source": [
    "numbers=[386,462,47,418,907,344,236,375,823,566,597,978,328,615,953,\n",
    "         345,399,162,758,219,237,412,566,826,248,950,626,949,687,217,\n",
    "         815,67,104,58,512,24,892,894,767,553,81,379,831,445,742,717,958,743,527]\n",
    "lst=[]\n",
    "for i in numbers:\n",
    "    if i != 237:\n",
    "        lst.append(i)\n",
    "    elif i == 237:\n",
    "        break\n",
    "print(lst)"
   ]
  },
  {
   "cell_type": "code",
   "execution_count": null,
   "id": "5305f6a0",
   "metadata": {},
   "outputs": [],
   "source": [
    "numbers = [386, 462, 47, 418, 907, 344, 236, 375, 823, 566, 597, 978, 328, 615, 953, 345, 399, 162, 758, 219, 918, 237, \n",
    "           412, 566, 826, 248, 866, 950, 626, 949, 687, 217, 815, 67, 104, 58, 512, 24, 892, 894, 767, 553, 81, 379, 843, \n",
    "           831, 445, 742, 717, 958,743, 527 ]\n",
    "\n",
    "lst = []\n",
    "for num in numbers:\n",
    "    if num % 2 == 0:\n",
    "        lst.append(num)\n",
    "\n",
    "        \n",
    "# print(lst)\n",
    "lst.sort()\n",
    "print(lst)"
   ]
  },
  {
   "cell_type": "code",
   "execution_count": 10,
   "id": "289cf22e",
   "metadata": {},
   "outputs": [],
   "source": [
    "#  Write a python program to sum two given integers. If the sum is within the range of 15 to 20, it returns 20. \n",
    "# therwise it returns/prints the su\n",
    "    "
   ]
  },
  {
   "cell_type": "code",
   "execution_count": null,
   "id": "9441a724",
   "metadata": {},
   "outputs": [],
   "source": [
    "first_num = int(input(\"insert first num:\"))\n",
    "second_num = int(input(\"insert second num:\"))\n",
    "\n",
    "sum_ = first_num + second_num\n",
    "\n",
    "if 15 <= sum_ <=20:\n",
    "    print(20)\n",
    "else:\n",
    "    print(sum_)"
   ]
  },
  {
   "cell_type": "code",
   "execution_count": 14,
   "id": "04d6060e",
   "metadata": {},
   "outputs": [],
   "source": [
    "# Make a two-player Rock-Paper-Scissors game. "
   ]
  },
  {
   "cell_type": "code",
   "execution_count": null,
   "id": "191d0eff",
   "metadata": {},
   "outputs": [],
   "source": [
    "start = input('are you play game? y/n :')\n",
    "i = True\n",
    "while i:\n",
    "    \n",
    "        \n",
    "        if start == 'n':\n",
    "            pass\n",
    "\n",
    "        elif start == 'y':\n",
    "            player_1 = input('player one enter your name : ')\n",
    "            player_2 = input('player two enter your name : ')\n",
    "\n",
    "            print('-------------------------game start--------------------------')\n",
    "\n",
    "            answer_1 = input('player one :Rock / Paper / Scissors') \n",
    "            answer_2 = input('player two :Rock / Paper / Scissors')\n",
    "\n",
    "            if answer_1 =='Rock' and answer_2 =='Scissors' :\n",
    "                    print('wowwwww Congratulations '+ player_1+' you won')\n",
    "\n",
    "            elif answer_1 == 'Paper' and answer_2 == 'Rock' :\n",
    "                    print('wowwwww Congratulations '+ player_1+' you won')\n",
    "\n",
    "            elif answer_1 == 'Scissors' and answer_2 == 'Paper' :\n",
    "                    print('wowwwww Congratulations '+ player_1+' you won')\n",
    "\n",
    "            elif answer_2 == 'Rock' and answer_1 == 'Scissors' :\n",
    "                    print('wowwwww Congratulations '+ player_2+' you won')\n",
    "\n",
    "            elif answer_2 == 'Paper' and answer_1 == 'Rock' :\n",
    "                    print('wowwwww Congratulations '+ player_2+' you won')\n",
    "    \n",
    "            elif answer_2 == 'Scissors' and answer_1 == 'Paper' :\n",
    "                    print('wowwwww Congratulations '+ player_2+' you won')\n",
    "\n",
    "            elif answer_1 == 'Rock' and answer_2 == 'Rock' :\n",
    "                    print('The result is equal')\n",
    "\n",
    "            elif answer_1 == 'Paper' and answer_2 == 'Paper' :\n",
    "                    print('The result is equal')\n",
    "\n",
    "            elif answer_1 == 'Scissors' and answer_2 == 'Scissors' : \n",
    "                    print('The result is equal')\n",
    "                \n",
    "    \n",
    "            another_round = input('do you want to play a new round? y/n')\n",
    "            if another_round == 'y':\n",
    "                i = True\n",
    "            else :\n",
    "                i = False\n",
    "        else :\n",
    "            print('your answer is false try again')\n"
   ]
  },
  {
   "cell_type": "code",
   "execution_count": null,
   "id": "1a4bc976",
   "metadata": {},
   "outputs": [],
   "source": [
    "# Check a pre-defined password with user inputs for 3 times; let them pass if they're correct with less than 3 tries.\n",
    "# Inform the user of being blocked if they enter more password incorrectly more than 4 times"
   ]
  },
  {
   "cell_type": "code",
   "execution_count": null,
   "id": "e495654b",
   "metadata": {},
   "outputs": [],
   "source": [
    "PASSWORD = \"P@s$W0rd\"\n",
    "i = True\n",
    "count = 0\n",
    "while i:\n",
    "        user_pass = input(\"insert your password:\")\n",
    "        if PASSWORD == user_pass:\n",
    "            print('you are pass')\n",
    "        else:\n",
    "            count +=1\n",
    "        if count == 4:\n",
    "            i = False\n",
    "            print('You are blocked')"
   ]
  },
  {
   "cell_type": "code",
   "execution_count": null,
   "id": "5e7d6555",
   "metadata": {},
   "outputs": [],
   "source": [
    "PASSWORD = \"P@s$W0rd\"\n",
    "count = 0\n",
    "while True:\n",
    "        user_pass = input(\"insert your password:\")\n",
    "        if PASSWORD == user_pass:\n",
    "            print('you are pass')\n",
    "        else:\n",
    "            count +=1\n",
    "        if count == 4:\n",
    "            print('You are blocked')\n",
    "            break"
   ]
  },
  {
   "cell_type": "code",
   "execution_count": 16,
   "id": "8d06318e",
   "metadata": {},
   "outputs": [],
   "source": [
    "# Write a program that asks the user how many Fibonnaci numbers to generate and then generates them.\n",
    "# Make sure to ask the user to enter the number of numbers in the sequence to generate.\n",
    "# (Hint: The Fibonnaci seqence is a sequence of numbers which the next number in the sequence is the sum of the \n",
    "#  previous two numbers to it.The sequence looks like this: 1, 1, 2, 3, 5, 8, 13, …)"
   ]
  },
  {
   "cell_type": "code",
   "execution_count": null,
   "id": "c4da0e30",
   "metadata": {},
   "outputs": [],
   "source": [
    "number_of_elements = int(input('Enter how many elements of Fibonnaci you want: '))\n",
    "lst = [1, 1]\n",
    "if number_of_elements > 2:\n",
    "    for i in range(number_of_elements):\n",
    "        next_number = lst[-1] + lst[-2]\n",
    "        lst.append(next_number)\n",
    "    print(lst)\n",
    "elif number_of_elements == 2:\n",
    "    print(lst)\n",
    "elif number_of_elements == 1:\n",
    "    print([lst[0]])\n",
    "else:\n",
    "    print('The number is out of range')"
   ]
  },
  {
   "cell_type": "markdown",
   "id": "cd2b73c2",
   "metadata": {},
   "source": [
    ":)"
   ]
  }
 ],
 "metadata": {
  "kernelspec": {
   "display_name": "Python 3 (ipykernel)",
   "language": "python",
   "name": "python3"
  },
  "language_info": {
   "codemirror_mode": {
    "name": "ipython",
    "version": 3
   },
   "file_extension": ".py",
   "mimetype": "text/x-python",
   "name": "python",
   "nbconvert_exporter": "python",
   "pygments_lexer": "ipython3",
   "version": "3.9.7"
  }
 },
 "nbformat": 4,
 "nbformat_minor": 5
}
