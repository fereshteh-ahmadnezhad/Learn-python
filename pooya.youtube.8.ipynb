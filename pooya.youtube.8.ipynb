{
 "cells": [
  {
   "cell_type": "code",
   "execution_count": 3,
   "id": "da21b743",
   "metadata": {},
   "outputs": [],
   "source": [
    "import math as m"
   ]
  },
  {
   "cell_type": "code",
   "execution_count": 4,
   "id": "b5c31193",
   "metadata": {},
   "outputs": [
    {
     "data": {
      "text/plain": [
       "-0.9880316240928618"
      ]
     },
     "execution_count": 4,
     "metadata": {},
     "output_type": "execute_result"
    }
   ],
   "source": [
    "m.sin(30)"
   ]
  },
  {
   "cell_type": "code",
   "execution_count": 5,
   "id": "b1d7058f",
   "metadata": {},
   "outputs": [
    {
     "name": "stdout",
     "output_type": "stream",
     "text": [
      "Help on built-in function sin in module math:\n",
      "\n",
      "sin(x, /)\n",
      "    Return the sine of x (measured in radians).\n",
      "\n"
     ]
    }
   ],
   "source": [
    "help(m.sin)"
   ]
  },
  {
   "cell_type": "code",
   "execution_count": 6,
   "id": "fcbeb57b",
   "metadata": {},
   "outputs": [
    {
     "data": {
      "text/plain": [
       "0.49999999999999994"
      ]
     },
     "execution_count": 6,
     "metadata": {},
     "output_type": "execute_result"
    }
   ],
   "source": [
    "m.sin(m.radians(30))"
   ]
  },
  {
   "cell_type": "code",
   "execution_count": 7,
   "id": "1ea97232",
   "metadata": {},
   "outputs": [],
   "source": [
    "from math import ceil"
   ]
  },
  {
   "cell_type": "code",
   "execution_count": 8,
   "id": "faf84baa",
   "metadata": {},
   "outputs": [
    {
     "data": {
      "text/plain": [
       "3"
      ]
     },
     "execution_count": 8,
     "metadata": {},
     "output_type": "execute_result"
    }
   ],
   "source": [
    "ceil(2.6)"
   ]
  },
  {
   "cell_type": "code",
   "execution_count": 10,
   "id": "956673cf",
   "metadata": {},
   "outputs": [
    {
     "ename": "ModuleNotFoundError",
     "evalue": "No module named 'cntk'",
     "output_type": "error",
     "traceback": [
      "\u001b[1;31m---------------------------------------------------------------------------\u001b[0m",
      "\u001b[1;31mModuleNotFoundError\u001b[0m                       Traceback (most recent call last)",
      "\u001b[1;32m~\\AppData\\Local\\Temp/ipykernel_2396/3640014750.py\u001b[0m in \u001b[0;36m<module>\u001b[1;34m\u001b[0m\n\u001b[1;32m----> 1\u001b[1;33m \u001b[1;32mimport\u001b[0m \u001b[0mcntk\u001b[0m\u001b[1;33m\u001b[0m\u001b[1;33m\u001b[0m\u001b[0m\n\u001b[0m",
      "\u001b[1;31mModuleNotFoundError\u001b[0m: No module named 'cntk'"
     ]
    }
   ],
   "source": [
    "import cntk"
   ]
  },
  {
   "cell_type": "code",
   "execution_count": 11,
   "id": "eb8602c0",
   "metadata": {},
   "outputs": [
    {
     "name": "stdout",
     "output_type": "stream",
     "text": [
      "Collecting tee\n",
      "  Downloading tee-0.0.3.tar.gz (3.1 kB)\n",
      "Building wheels for collected packages: tee\n",
      "  Building wheel for tee (setup.py): started\n",
      "  Building wheel for tee (setup.py): finished with status 'done'\n",
      "  Created wheel for tee: filename=tee-0.0.3-py3-none-any.whl size=3071 sha256=579271041e371916a7708e821efe1ef03e5d993a027e7688265dd15af66859b6\n",
      "  Stored in directory: c:\\users\\central\\appdata\\local\\pip\\cache\\wheels\\e4\\36\\2c\\89ade6c328a62bdeac8cf9f75d9f5dfd1b583c1ca0f3ee9428\n",
      "Successfully built tee\n",
      "Installing collected packages: tee\n",
      "Successfully installed tee-0.0.3\n"
     ]
    }
   ],
   "source": [
    "!pip install tee"
   ]
  },
  {
   "cell_type": "markdown",
   "id": "aa87786c",
   "metadata": {},
   "source": [
    "## turn on your vpn"
   ]
  },
  {
   "cell_type": "code",
   "execution_count": 12,
   "id": "356fbf3a",
   "metadata": {},
   "outputs": [
    {
     "name": "stderr",
     "output_type": "stream",
     "text": [
      "ERROR: Could not find a version that satisfies the requirement cntk (from versions: none)\n",
      "ERROR: No matching distribution found for cntk\n"
     ]
    }
   ],
   "source": [
    "!pip install cntk"
   ]
  },
  {
   "cell_type": "markdown",
   "id": "065f53d2",
   "metadata": {},
   "source": []
  },
  {
   "cell_type": "code",
   "execution_count": null,
   "id": "64f33b56",
   "metadata": {},
   "outputs": [],
   "source": []
  }
 ],
 "metadata": {
  "kernelspec": {
   "display_name": "Python 3 (ipykernel)",
   "language": "python",
   "name": "python3"
  },
  "language_info": {
   "codemirror_mode": {
    "name": "ipython",
    "version": 3
   },
   "file_extension": ".py",
   "mimetype": "text/x-python",
   "name": "python",
   "nbconvert_exporter": "python",
   "pygments_lexer": "ipython3",
   "version": "3.9.7"
  }
 },
 "nbformat": 4,
 "nbformat_minor": 5
}
