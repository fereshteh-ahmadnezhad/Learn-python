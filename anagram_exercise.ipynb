{
 "cells": [
  {
   "cell_type": "code",
   "execution_count": 59,
   "id": "b7276918",
   "metadata": {
    "scrolled": true
   },
   "outputs": [
    {
     "name": "stdout",
     "output_type": "stream",
     "text": [
      "['A\\n', 'AB\\n', 'a\\n', 'Aa\\n', 'aa\\n', 'aaln\\n', 'aalii\\n', 'aaM\\n', 'aaln\\n', 'aaalnm\\n', 'AAbLN']\n",
      "--------------------------------------------------------------------------------\n",
      "['a', 'aa', 'aaalnm', 'aabln', 'aalii', 'aaln', 'aam', 'ab']\n"
     ]
    }
   ],
   "source": [
    "#1)\n",
    "\n",
    "\n",
    "import os\n",
    "with open(\"myfile3.txt\") as file:\n",
    "    data_1= file.readlines()\n",
    "\n",
    "print(data_1)\n",
    "print('--------------------------------------------------------------------------------')\n",
    "data_2 =sorted(set([word.strip().lower() for word in data_1]))\n",
    "print(data_2)"
   ]
  },
  {
   "cell_type": "code",
   "execution_count": 60,
   "id": "d05f6b06",
   "metadata": {},
   "outputs": [
    {
     "name": "stdout",
     "output_type": "stream",
     "text": [
      "['A\\n', 'AB\\n', 'a\\n', 'Aa\\n', 'aa\\n', 'aaln\\n', 'aalii\\n', 'aaM\\n', 'aaln\\n', 'aaalnm\\n', 'AAbLN']\n",
      "--------------------------------------------------------------------------------\n"
     ]
    },
    {
     "data": {
      "text/plain": [
       "['a', 'aa', 'aaalnm', 'aabl', 'aalii', 'aaln', 'aam', 'ab']"
      ]
     },
     "execution_count": 60,
     "metadata": {},
     "output_type": "execute_result"
    }
   ],
   "source": [
    "#or)\n",
    "\n",
    "\n",
    "import os\n",
    "with open(\"myfile3.txt\") as file:\n",
    "    data_1= file.readlines()\n",
    "\n",
    "print(data_1)\n",
    "print('--------------------------------------------------------------------------------')\n",
    "data_2=sorted(set([word[:-1].lower()  for word in data_1]))\n",
    "data_2"
   ]
  },
  {
   "cell_type": "code",
   "execution_count": 61,
   "id": "0191c82d",
   "metadata": {},
   "outputs": [
    {
     "data": {
      "text/plain": [
       "{'acdiinorty': ['dictionary', 'indicatory']}"
      ]
     },
     "execution_count": 61,
     "metadata": {},
     "output_type": "execute_result"
    }
   ],
   "source": [
    "#2) \n",
    "a={'acdiinorty':['dictionary', 'indicatory']}\n",
    "\n",
    "a\n"
   ]
  },
  {
   "cell_type": "code",
   "execution_count": 62,
   "id": "1a3c559e",
   "metadata": {},
   "outputs": [
    {
     "data": {
      "text/plain": [
       "{'a': ['a'],\n",
       " 'aa': ['aa'],\n",
       " 'aaalmn': ['aaalnm'],\n",
       " 'aabl': ['aabl'],\n",
       " 'aaiil': ['aalii'],\n",
       " 'aaln': ['aaln'],\n",
       " 'aam': ['aam'],\n",
       " 'ab': ['ab']}"
      ]
     },
     "execution_count": 62,
     "metadata": {},
     "output_type": "execute_result"
    }
   ],
   "source": [
    "import os\n",
    "with open(\"myfile3.txt\") as file:\n",
    "    data_1= file.readlines()\n",
    "\n",
    "data_2=sorted(set([word[:-1].lower()  for word in data_1]))\n",
    "\n",
    "def signiture(word):\n",
    "    return ''.join(sorted(word))\n",
    "\n",
    "dict_1=dict()\n",
    "\n",
    "for word in data_2:\n",
    "    sig_word = signiture(word)\n",
    "    if sig_word not in dict_1:\n",
    "        dict_1[sig_word] = [word]\n",
    "    else:\n",
    "        dict_1[sig_word].append(word)\n",
    "dict_1"
   ]
  },
  {
   "cell_type": "code",
   "execution_count": 63,
   "id": "cb9bf58b",
   "metadata": {},
   "outputs": [
    {
     "data": {
      "text/plain": [
       "{1: 1, 2: 2, 6: 1, 4: 2, 5: 1, 3: 1}"
      ]
     },
     "execution_count": 63,
     "metadata": {},
     "output_type": "execute_result"
    }
   ],
   "source": [
    "#3)\n",
    "\n",
    "\n",
    "\n",
    "import os\n",
    "with open(\"myfile3.txt\") as file:\n",
    "    data_1= file.readlines()\n",
    "\n",
    "data_2=sorted(set([word[:-1].lower()  for word in data_1]))\n",
    "\n",
    "def signiture(word):\n",
    "    return ''.join(sorted(word))\n",
    "\n",
    "dict_1=dict()\n",
    "\n",
    "for word in data_2:\n",
    "    sig_word = signiture(word)\n",
    "    if sig_word not in dict_1:\n",
    "        dict_1[sig_word] = [word]\n",
    "    else:\n",
    "        dict_1[sig_word].append(word)\n",
    "        \n",
    "dict_2 = dict()\n",
    "for word_2 in dict_1: \n",
    "    \n",
    "    counter= 0                                 \n",
    "    for word_3 in dict_1:                    \n",
    "        if len(word_2) == len(word_3):            \n",
    "            counter += 1\n",
    "            dict_2[len(word_2)] = counter\n",
    "                                                \n",
    "dict_2"
   ]
  }
 ],
 "metadata": {
  "kernelspec": {
   "display_name": "Python 3 (ipykernel)",
   "language": "python",
   "name": "python3"
  },
  "language_info": {
   "codemirror_mode": {
    "name": "ipython",
    "version": 3
   },
   "file_extension": ".py",
   "mimetype": "text/x-python",
   "name": "python",
   "nbconvert_exporter": "python",
   "pygments_lexer": "ipython3",
   "version": "3.9.7"
  }
 },
 "nbformat": 4,
 "nbformat_minor": 5
}
