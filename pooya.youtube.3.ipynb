{
 "cells": [
  {
   "cell_type": "markdown",
   "id": "0c021d3a",
   "metadata": {},
   "source": [
    "## membership operators"
   ]
  },
  {
   "cell_type": "code",
   "execution_count": 3,
   "id": "c5eaab24",
   "metadata": {},
   "outputs": [
    {
     "name": "stdout",
     "output_type": "stream",
     "text": [
      "the result of \"a in b\" is True\n",
      "the result of a not in b is False\n"
     ]
    }
   ],
   "source": [
    "a = 1\n",
    "b = [1, 2, 3, 6, 5]\n",
    "print('the result of \"a in b\" is {}'.format(a in b))\n",
    "print('the result of a not in b is {}'.format(a not in b))"
   ]
  },
  {
   "cell_type": "markdown",
   "id": "d32f1bb7",
   "metadata": {},
   "source": [
    "## identity operators"
   ]
  },
  {
   "cell_type": "code",
   "execution_count": 4,
   "id": "8ca0f2dd",
   "metadata": {},
   "outputs": [
    {
     "name": "stdout",
     "output_type": "stream",
     "text": [
      "the result of \"a is b\" is False\n",
      "the result of \"a is not b\" is True\n"
     ]
    }
   ],
   "source": [
    "a = None\n",
    "b = (1,2,3,6,5)\n",
    "print('the result of \"a is b\" is {}'.format(a is b))\n",
    "print('the result of \"a is not b\" is {}'.format(a is not b))"
   ]
  },
  {
   "cell_type": "code",
   "execution_count": null,
   "id": "51770896",
   "metadata": {},
   "outputs": [],
   "source": []
  }
 ],
 "metadata": {
  "kernelspec": {
   "display_name": "Python 3 (ipykernel)",
   "language": "python",
   "name": "python3"
  },
  "language_info": {
   "codemirror_mode": {
    "name": "ipython",
    "version": 3
   },
   "file_extension": ".py",
   "mimetype": "text/x-python",
   "name": "python",
   "nbconvert_exporter": "python",
   "pygments_lexer": "ipython3",
   "version": "3.9.7"
  }
 },
 "nbformat": 4,
 "nbformat_minor": 5
}
