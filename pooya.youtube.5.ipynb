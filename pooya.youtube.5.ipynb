{
 "cells": [
  {
   "cell_type": "markdown",
   "id": "e5916915",
   "metadata": {},
   "source": [
    "## loops\n",
    "   #### while loop"
   ]
  },
  {
   "cell_type": "code",
   "execution_count": 1,
   "id": "23de301c",
   "metadata": {},
   "outputs": [
    {
     "name": "stdout",
     "output_type": "stream",
     "text": [
      "0\n",
      "1\n",
      "2\n",
      "3\n",
      "4\n",
      "5\n",
      "6\n",
      "7\n",
      "8\n",
      "9\n"
     ]
    }
   ],
   "source": [
    "counter = 0\n",
    "while counter <10:\n",
    "    print(counter)\n",
    "    counter +=1"
   ]
  },
  {
   "cell_type": "markdown",
   "id": "eb6b363b",
   "metadata": {},
   "source": [
    "#### for loop"
   ]
  },
  {
   "cell_type": "code",
   "execution_count": 2,
   "id": "b5a122c0",
   "metadata": {},
   "outputs": [
    {
     "name": "stdout",
     "output_type": "stream",
     "text": [
      "pooya\n",
      "menoo\n",
      "you\n"
     ]
    }
   ],
   "source": [
    "lst = ['pooya', 'menoo', 'you']\n",
    "for name in lst:\n",
    "    print(name)"
   ]
  },
  {
   "cell_type": "code",
   "execution_count": 3,
   "id": "8a878f12",
   "metadata": {},
   "outputs": [
    {
     "name": "stdout",
     "output_type": "stream",
     "text": [
      "h\n",
      "e\n",
      "l\n",
      "l\n",
      "o\n",
      " \n",
      "w\n",
      "o\n",
      "r\n",
      "l\n",
      "d\n"
     ]
    }
   ],
   "source": [
    "str_='hello world'\n",
    "for ch in str_:\n",
    "    print(ch)"
   ]
  },
  {
   "cell_type": "code",
   "execution_count": 7,
   "id": "ee94cd91",
   "metadata": {},
   "outputs": [
    {
     "name": "stdout",
     "output_type": "stream",
     "text": [
      "h\n",
      "e\n",
      "t\n",
      "h\n",
      "s\n",
      "e\n",
      "r\n",
      "e\n",
      "f\n"
     ]
    }
   ],
   "source": [
    "#print your name backward\n",
    "name='fereshteh'\n",
    "for i in name[::-1]:\n",
    "    print(i)"
   ]
  },
  {
   "cell_type": "code",
   "execution_count": 1,
   "id": "ddbb3e2b",
   "metadata": {},
   "outputs": [
    {
     "name": "stdout",
     "output_type": "stream",
     "text": [
      "['pooya', 'menoo', 'golsa']\n",
      "['pooya', 'menoo', 'golsa']\n",
      "['pooya', 'menoo', 'golsa']\n"
     ]
    }
   ],
   "source": [
    "# print lst, len(lst) times\n",
    "lst = ['pooya','menoo','golsa']\n",
    "for i in lst:\n",
    "    print(lst)"
   ]
  },
  {
   "cell_type": "code",
   "execution_count": 3,
   "id": "70f8ac35",
   "metadata": {},
   "outputs": [
    {
     "name": "stdout",
     "output_type": "stream",
     "text": [
      "[6, 8, 10, 12]\n"
     ]
    }
   ],
   "source": [
    "#sum lst_1 and lst_2 element_wise: use for \n",
    "#res:[6,8,10,12]\n",
    "les_1=[1,2,3,4]\n",
    "les_2=[5,6,7,8]\n",
    "n=0\n",
    "res=[]\n",
    "for l in lst_1:\n",
    "    res.append(l + lst_2[n])\n",
    "    n +=1\n",
    "print(res)\n",
    "    "
   ]
  },
  {
   "cell_type": "code",
   "execution_count": 8,
   "id": "416c16a2",
   "metadata": {},
   "outputs": [
    {
     "data": {
      "text/plain": [
       "[6, 8, 10, 12]"
      ]
     },
     "execution_count": 8,
     "metadata": {},
     "output_type": "execute_result"
    }
   ],
   "source": [
    "#or\n",
    "les_1=[1,2,3,4]\n",
    "les_2=[5,6,7,8]\n",
    "res=[]\n",
    "for l in les_1:\n",
    "    res.append(l + lst_2[lst_1.index(l)])\n",
    "res"
   ]
  },
  {
   "cell_type": "code",
   "execution_count": 9,
   "id": "09cf377f",
   "metadata": {},
   "outputs": [
    {
     "data": {
      "text/plain": [
       "[0, 1, 2, 3, 4, 5, 6, 7, 8, 9]"
      ]
     },
     "execution_count": 9,
     "metadata": {},
     "output_type": "execute_result"
    }
   ],
   "source": [
    "list(range(10))"
   ]
  },
  {
   "cell_type": "code",
   "execution_count": 10,
   "id": "eb6ebca0",
   "metadata": {},
   "outputs": [
    {
     "data": {
      "text/plain": [
       "[1, 3, 5, 7, 9]"
      ]
     },
     "execution_count": 10,
     "metadata": {},
     "output_type": "execute_result"
    }
   ],
   "source": [
    "list(range(1,10,2))"
   ]
  },
  {
   "cell_type": "code",
   "execution_count": 11,
   "id": "fb587957",
   "metadata": {},
   "outputs": [
    {
     "data": {
      "text/plain": [
       "range(0, 10)"
      ]
     },
     "execution_count": 11,
     "metadata": {},
     "output_type": "execute_result"
    }
   ],
   "source": [
    "range(10)"
   ]
  },
  {
   "cell_type": "code",
   "execution_count": 18,
   "id": "84fb9f4a",
   "metadata": {},
   "outputs": [
    {
     "data": {
      "text/plain": [
       "[5, 7, 9, 11]"
      ]
     },
     "execution_count": 18,
     "metadata": {},
     "output_type": "execute_result"
    }
   ],
   "source": [
    "lst_2=[5,6,7,8]\n",
    "res=[]\n",
    "n=0\n",
    "for l in range(len(lst_1)):\n",
    "    res.append(l + lst_2[n])\n",
    "    n +=1\n",
    "res"
   ]
  },
  {
   "cell_type": "code",
   "execution_count": 21,
   "id": "e8c210e4",
   "metadata": {},
   "outputs": [],
   "source": [
    "#print lst backwards usind range\n",
    "lst=['pooya','menoo',10,12]\n"
   ]
  },
  {
   "cell_type": "code",
   "execution_count": 20,
   "id": "becae9ab",
   "metadata": {},
   "outputs": [
    {
     "name": "stdout",
     "output_type": "stream",
     "text": [
      "11\n",
      "14\n",
      "19\n",
      "26\n",
      "35\n",
      "46\n"
     ]
    }
   ],
   "source": [
    "list_=[1,4,9,16,25,36]\n",
    "for i in list_:\n",
    "    print(i+10)"
   ]
  },
  {
   "cell_type": "code",
   "execution_count": 24,
   "id": "fe81c97c",
   "metadata": {},
   "outputs": [
    {
     "name": "stdout",
     "output_type": "stream",
     "text": [
      "0\n",
      "1\n",
      "2\n",
      "3\n",
      "4\n",
      "5\n",
      "6\n",
      "7\n",
      "8\n",
      "9\n",
      "braek statment has been triggered\n"
     ]
    }
   ],
   "source": [
    "counter=0\n",
    "while True:\n",
    "    print(counter)\n",
    "    counter +=1\n",
    "    if counter >=10:\n",
    "        break\n",
    "print('braek statment has been triggered')"
   ]
  },
  {
   "cell_type": "code",
   "execution_count": 28,
   "id": "e35fbb8b",
   "metadata": {},
   "outputs": [
    {
     "name": "stdout",
     "output_type": "stream",
     "text": [
      "0\n",
      "1\n",
      "2\n",
      "3\n",
      "4\n",
      "6\n",
      "7\n",
      "8\n",
      "9\n"
     ]
    }
   ],
   "source": [
    "for counter in range(10):\n",
    "    if counter == 5:\n",
    "        continue\n",
    "    print(counter)"
   ]
  },
  {
   "cell_type": "code",
   "execution_count": null,
   "id": "57a19f7e",
   "metadata": {},
   "outputs": [],
   "source": []
  }
 ],
 "metadata": {
  "kernelspec": {
   "display_name": "Python 3 (ipykernel)",
   "language": "python",
   "name": "python3"
  },
  "language_info": {
   "codemirror_mode": {
    "name": "ipython",
    "version": 3
   },
   "file_extension": ".py",
   "mimetype": "text/x-python",
   "name": "python",
   "nbconvert_exporter": "python",
   "pygments_lexer": "ipython3",
   "version": "3.9.7"
  }
 },
 "nbformat": 4,
 "nbformat_minor": 5
}
